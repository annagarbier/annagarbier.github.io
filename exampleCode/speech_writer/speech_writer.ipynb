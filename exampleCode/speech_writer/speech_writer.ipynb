{
 "cells": [
  {
   "cell_type": "markdown",
   "metadata": {},
   "source": [
    "## Speech writer\n",
    "\n",
    "Given text input, produces a fine-grained description for producing the corresponding speech.\n",
    "\n",
    "### TODO\n",
    "- phonetics, like\n",
    "    - not releasing air at word-end or before a consonant\n",
    "    - flaps vs taps\n",
    "    - transitions, i.e. check if mouth is already in correct position and if voicing is already happening\n",
    "- fuzzier addons\n",
    "    - breathing\n",
    "    - stress\n",
    "    - intonation\n",
    "- pass the instructions into the input...iteratively\n",
    "    - iterative"
   ]
  },
  {
   "cell_type": "markdown",
   "metadata": {},
   "source": [
    "## Imports"
   ]
  },
  {
   "cell_type": "code",
   "execution_count": 292,
   "metadata": {},
   "outputs": [],
   "source": [
    "import pandas as pd\n",
    "import pronouncing\n",
    "import re"
   ]
  },
  {
   "cell_type": "markdown",
   "metadata": {},
   "source": [
    "## Data"
   ]
  },
  {
   "cell_type": "code",
   "execution_count": 293,
   "metadata": {},
   "outputs": [],
   "source": [
    "pd.set_option('display.max_colwidth', 0)\n",
    "consonants = pd.read_csv('consonants.csv')\n",
    "vowels = pd.read_csv('vowels.csv')"
   ]
  },
  {
   "cell_type": "markdown",
   "metadata": {},
   "source": [
    "## Core"
   ]
  },
  {
   "cell_type": "code",
   "execution_count": 301,
   "metadata": {},
   "outputs": [],
   "source": [
    "def wordToPhonemeList(word):\n",
    "    \"\"\"Converts a single word to list of phonemes.\"\"\"\n",
    "    phoneme_str = pronouncing.phones_for_word(word)[0]\n",
    "    phoneme_str_nostress = ''.join([i for i in phoneme_str if not i.isdigit()])\n",
    "    return phoneme_str_nostress.split(' ')\n",
    "\n",
    "\n",
    "def phonemeToDescription(phoneme, inventory):\n",
    "    \"\"\"Converts a single phoneme to its articulatory description.\"\"\"\n",
    "    return inventory[inventory['cmu_symbol']==phoneme]['description'].to_string(index=False).strip()\n",
    "\n",
    "\n",
    "def wordToDescription(word):\n",
    "    \"\"\"Converts a single word to its articulatory description.\"\"\"\n",
    "    list_description = ''\n",
    "    for phoneme in wordToPhonemeList(word):\n",
    "        description = ''\n",
    "        if consonants['cmu_symbol'].str.contains(phoneme).any():\n",
    "            description = phonemeToDescription(phoneme, consonants)\n",
    "        elif vowels['cmu_symbol'].str.contains(phoneme).any():\n",
    "            description = phonemeToDescription(phoneme, vowels)\n",
    "        list_description += ' ' + description\n",
    "            \n",
    "    return list_description.strip()\n",
    "\n",
    "\n",
    "def docToDescription(doc):\n",
    "    \"\"\"Converts a whole document to its articulatory description.\"\"\"\n",
    "    doc_description = ''\n",
    "    word_list = re.sub(r'[^\\w\\s\\']', '', doc)\n",
    "    for word in word_list.split(' '):\n",
    "        doc_description += ' ' + wordToDescription(word)\n",
    "    return doc_description.strip()"
   ]
  },
  {
   "cell_type": "code",
   "execution_count": 302,
   "metadata": {},
   "outputs": [
    {
     "data": {
      "text/plain": [
       "'Partially constrict your glottis. While keeping your vocal folds relaxed, push air through this partial constriction. Raise your tongue very slightly towards the back of the roof of your mouth. Tighten your vocal folds and push air through your mouth. Raise the tip of your tongue against your gum line, just behind your top teeth. Keeping your tongue firmly in this position, tense your vocal folds and release air so that the air moves across the sides of your tongue. With your tongue relaxed at the back of your mouth, tense your vocal folds. While pushing air through your mouth, round your lips and move your tongue slightly upwards towards the roof of your mouth, leaving a spall space between your tongue and the roof of your mouth. Round your lips so that they create a small opening. With your lips in this position, raise the back of your tongue towards the back of the roof of your mouth. Keep a little space between your tongue and the roof of your mouth. Release air through your mouth. As you do all so, keep your vocal folds tense. Move your tongue slightly towards the middle of the roof of your mouth. Tense your vocal folds and push air through your mouth. Raise the tip of your tongue against your gum line, just behind your top teeth. Keeping your tongue firmly in this position, tense your vocal folds and release air so that the air moves across the sides of your tongue. Touch the tip of your tongue to the roof of your mouth at your gum line, just behind your top teeth. Create a tight constriction and allow air pressure to build inside your mouth. Quickly lower your tongue, releasing the air pressure in a short burst. As you do so, keep your vocal folds tense.'"
      ]
     },
     "execution_count": 302,
     "metadata": {},
     "output_type": "execute_result"
    }
   ],
   "source": [
    "docToDescription('Hello, world!')"
   ]
  }
 ],
 "metadata": {
  "kernelspec": {
   "display_name": "Python 3",
   "language": "python",
   "name": "python3"
  },
  "language_info": {
   "codemirror_mode": {
    "name": "ipython",
    "version": 3
   },
   "file_extension": ".py",
   "mimetype": "text/x-python",
   "name": "python",
   "nbconvert_exporter": "python",
   "pygments_lexer": "ipython3",
   "version": "3.7.6"
  }
 },
 "nbformat": 4,
 "nbformat_minor": 2
}
